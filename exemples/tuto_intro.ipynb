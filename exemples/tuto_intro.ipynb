{
 "cells": [
  {
   "cell_type": "markdown",
   "metadata": {},
   "source": [
    "# PyMarthe, le tuto d'intro \n",
    "\n",
    "## Introduction\n",
    "\n",
    "*PyMarthe* est une interface Python pour le logiciel de simulation des écoulements *Marthe*. *PyMarthe* complète l'interface graphique WinMarthe en offrant la possibilité d'écrire les paramètres, de lire les sorties, et d'exécuter un modèle existant depuis un terminal Python. \n",
    "\n",
    "*PyMarthe* permet d'effectuer des tâches répétitives, et aussi (et surtout) de profiter de la puissance de la suite logiciel __[PEST](http://www.pesthomepage.org)__ pour l'estimation des paramètres, la quantification des incertitudes, et l'optimisation. \n",
    "\n",
    "Dans la version actuelle, *PyMarthe* permet de gérer tous les paramètres distribués (permh, kepon, emmli, emmca) pour les maillages réguliers.\n",
    "\n",
    "Détail qui a son importance, Python est en base 0, et PyMarthe aussi. L'identifiant de la première couche est ainsi 0, de la deuxième couche, 1 , etc. En revanche, pour garder la cohérence avec Marthe, tous les fichiers et noms de fichiers écrits par PyMarthe sont en base 1. "
   ]
  },
  {
   "cell_type": "markdown",
   "metadata": {},
   "source": [
    "## Chargement d'un modèle Marthe\n",
    "\n",
    "*PyMarthe* dépend des modules Python __[numpy](https://pypi.org/project/numpy/)__, __[pandas](https://pypi.org/project/pandas/)__ et __[pyemu](https://pypi.org/project/pyemu/)__. Ces derniers sont facilement installables via la commande <code>pip install</code>."
   ]
  },
  {
   "cell_type": "code",
   "execution_count": 1,
   "metadata": {},
   "outputs": [],
   "source": [
    "import sys \n",
    "import os \n",
    "import pandas as pd\n",
    "import numpy as np\n",
    "import pyemu\n",
    "from matplotlib import pyplot as plt\n",
    "\n",
    "import pymarthe"
   ]
  },
  {
   "cell_type": "markdown",
   "metadata": {},
   "source": [
    "Pour charger un modèle existant (développé par exemple avec WinMarthe), rien de plus simple ! Il suffit de se placer dans le répertoire du modèle avec ``os.chdir(path)`` et de pointer vers le fichier *Marthe* ``model.rma``: "
   ]
  },
  {
   "cell_type": "code",
   "execution_count": 2,
   "metadata": {},
   "outputs": [],
   "source": [
    "os.chdir('/Users/apryet/recherche/adeqwat/model/')\n",
    "mm = pymarthe.MartheModel('mona.rma')"
   ]
  },
  {
   "cell_type": "markdown",
   "metadata": {},
   "source": [
    "<code>mm</code> est une instance de la classe ``MartheModel``, c'est la porte d'entrée Python vers le modèle *Marthe*. Lors de l'initialisation, *PyMarthe* lit le fichier ``mona.permh``, qui lui permet de connaître les coordonnées, le maillage, et le domaine active du modèle. \n",
    "\n",
    "Il est possible de récupérer les dimensions du modèle :"
   ]
  },
  {
   "cell_type": "markdown",
   "metadata": {},
   "source": [
    "nlay, nrow, ncol = mm.nlay, mm.nrow, mm.ncol"
   ]
  },
  {
   "cell_type": "markdown",
   "metadata": {},
   "source": [
    "Et d'accéder au tableau  ``imask`` dans lequel on retrouvera la valeur 1 pour les cellules actives, 0 pour les cellules inactives. Par exemple, pour afficher le domaine actif de la première couche : "
   ]
  },
  {
   "cell_type": "code",
   "execution_count": 3,
   "metadata": {},
   "outputs": [
    {
     "data": {
      "text/plain": [
       "<matplotlib.image.AxesImage at 0x11cc0c2e8>"
      ]
     },
     "execution_count": 3,
     "metadata": {},
     "output_type": "execute_result"
    },
    {
     "data": {
      "image/png": "[encoded data removed]",
      "text/plain": [
       "<Figure size 432x288 with 1 Axes>"
      ]
     },
     "metadata": {
      "needs_background": "light"
     },
     "output_type": "display_data"
    }
   ],
   "source": [
    "plt.imshow(mm.imask[0,:,:])"
   ]
  },
  {
   "cell_type": "markdown",
   "metadata": {},
   "source": [
    "La conductivité hydraulique horizontale ``permh`` est automatiquement chargée. Pour les autres, on peut utiliser la fonction ``load_grid()``, et l'on retrouvera le paramètre dans le dictionnaire des grilles chargées dans *PyMarthe* : "
   ]
  },
  {
   "cell_type": "code",
   "execution_count": 4,
   "metadata": {},
   "outputs": [
    {
     "data": {
      "text/plain": [
       "dict_keys(['permh', 'kepon'])"
      ]
     },
     "execution_count": 4,
     "metadata": {},
     "output_type": "execute_result"
    }
   ],
   "source": [
    "mm.load_grid('kepon')\n",
    "mm.grids.keys()"
   ]
  },
  {
   "cell_type": "markdown",
   "metadata": {},
   "source": [
    "PyMarthe sait lire et écrire les paramètres, il est possible (mais déconseillé) de changer directement la valeur de cette grille et de l'écrire sur le disque : "
   ]
  },
  {
   "cell_type": "code",
   "execution_count": 5,
   "metadata": {},
   "outputs": [],
   "source": [
    "mm.grids['permh'][2,50:100,30:24]=2e-5\n",
    "mm.write_grid('permh')"
   ]
  },
  {
   "cell_type": "markdown",
   "metadata": {},
   "source": [
    "Premièrement ce n'est pas bien pratique, deuxièmement cela comporte des dangers, notamment celui d'altérer le domaine actif du modèle (valeurs de permh non nulles). Une solution à cela  ? Utiliser la classe ``MartheParam``..."
   ]
  },
  {
   "cell_type": "markdown",
   "metadata": {},
   "source": [
    "## Utilisation des paramètres\n",
    "\n",
    "Pour lire ou ré-ecrire un paramètre, on fait appel à la classe ``MartheParam``."
   ]
  },
  {
   "cell_type": "code",
   "execution_count": 6,
   "metadata": {},
   "outputs": [
    {
     "data": {
      "text/plain": [
       "{'permh': <pymarthe.mparam.MartheParam at 0x11cb4a6d8>,\n",
       " 'emmli': <pymarthe.mparam.MartheParam at 0x11cb512b0>}"
      ]
     },
     "execution_count": 6,
     "metadata": {},
     "output_type": "execute_result"
    }
   ],
   "source": [
    "# ajout du paramètre de conductivité hydraulique horizontale\n",
    "mm.add_param('permh')\n",
    "# ajout du paramètre d'emmagasinnement captif'\n",
    "mm.add_param('emmli')\n",
    "# accès au dictionnaire pour atteindre les paramètres \n",
    "mm.param"
   ]
  },
  {
   "cell_type": "markdown",
   "metadata": {},
   "source": [
    "Il est alors beaucoup plus simple et prudent de changer les valeurs des paramètres : "
   ]
  },
  {
   "cell_type": "code",
   "execution_count": 7,
   "metadata": {},
   "outputs": [],
   "source": [
    "# changer toutes les valeurs \n",
    "mm.param['permh'].set_array(value = 1e-3)\n",
    "\n",
    "# changer la valeur d'une seule couche \n",
    "mm.param['permh'].set_array(value = 1e-3,lay = 2)\n",
    "\n",
    "# changer la valeur d'une série de couches \n",
    "mm.param['permh'].set_array(value = 1e-3, lay = [2,3,4])\n",
    "\n",
    "# puis écriture vers le disque \n",
    "mm.write_grids()"
   ]
  },
  {
   "cell_type": "markdown",
   "metadata": {},
   "source": [
    "## Utilisation des observations "
   ]
  }
 ],
 "metadata": {
  "kernelspec": {
   "display_name": "Python 3",
   "language": "python",
   "name": "python3"
  },
  "language_info": {
   "codemirror_mode": {
    "name": "ipython",
    "version": 3
   },
   "file_extension": ".py",
   "mimetype": "text/x-python",
   "name": "python",
   "nbconvert_exporter": "python",
   "pygments_lexer": "ipython3",
   "version": "3.6.7"
  }
 },
 "nbformat": 4,
 "nbformat_minor": 2
}
